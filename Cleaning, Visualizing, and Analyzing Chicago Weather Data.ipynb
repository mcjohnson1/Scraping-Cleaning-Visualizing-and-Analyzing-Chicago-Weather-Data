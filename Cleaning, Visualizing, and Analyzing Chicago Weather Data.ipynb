{
 "cells": [
  {
   "cell_type": "code",
   "execution_count": 169,
   "metadata": {},
   "outputs": [
    {
     "name": "stdout",
     "output_type": "stream",
     "text": [
      "Populating the interactive namespace from numpy and matplotlib\n"
     ]
    }
   ],
   "source": [
    "# For data manipulation\n",
    "import pandas as pd\n",
    "import numpy as np\n",
    "\n",
    "# To plot\n",
    "import matplotlib.pyplot as plt\n",
    "%pylab inline"
   ]
  },
  {
   "cell_type": "code",
   "execution_count": 170,
   "metadata": {},
   "outputs": [
    {
     "data": {
      "text/html": [
       "<div>\n",
       "<style>\n",
       "    .dataframe thead tr:only-child th {\n",
       "        text-align: right;\n",
       "    }\n",
       "\n",
       "    .dataframe thead th {\n",
       "        text-align: left;\n",
       "    }\n",
       "\n",
       "    .dataframe tbody tr th {\n",
       "        vertical-align: top;\n",
       "    }\n",
       "</style>\n",
       "<table border=\"1\" class=\"dataframe\">\n",
       "  <thead>\n",
       "    <tr style=\"text-align: right;\">\n",
       "      <th></th>\n",
       "      <th>Mean Temperature</th>\n",
       "      <th>Max Temperature</th>\n",
       "      <th>Min Temperature</th>\n",
       "    </tr>\n",
       "    <tr>\n",
       "      <th>Date</th>\n",
       "      <th></th>\n",
       "      <th></th>\n",
       "      <th></th>\n",
       "    </tr>\n",
       "  </thead>\n",
       "  <tbody>\n",
       "    <tr>\n",
       "      <th>1996-01-01</th>\n",
       "      <td>23</td>\n",
       "      <td>60</td>\n",
       "      <td>-11</td>\n",
       "    </tr>\n",
       "    <tr>\n",
       "      <th>1996-02-01</th>\n",
       "      <td>26</td>\n",
       "      <td>57</td>\n",
       "      <td>-18</td>\n",
       "    </tr>\n",
       "    <tr>\n",
       "      <th>1996-03-01</th>\n",
       "      <td>31</td>\n",
       "      <td>63</td>\n",
       "      <td>1</td>\n",
       "    </tr>\n",
       "    <tr>\n",
       "      <th>1996-04-01</th>\n",
       "      <td>45</td>\n",
       "      <td>81</td>\n",
       "      <td>21</td>\n",
       "    </tr>\n",
       "    <tr>\n",
       "      <th>1996-05-01</th>\n",
       "      <td>55</td>\n",
       "      <td>90</td>\n",
       "      <td>34</td>\n",
       "    </tr>\n",
       "  </tbody>\n",
       "</table>\n",
       "</div>"
      ],
      "text/plain": [
       "            Mean Temperature  Max Temperature  Min Temperature\n",
       "Date                                                          \n",
       "1996-01-01                23               60              -11\n",
       "1996-02-01                26               57              -18\n",
       "1996-03-01                31               63                1\n",
       "1996-04-01                45               81               21\n",
       "1996-05-01                55               90               34"
      ]
     },
     "execution_count": 170,
     "metadata": {},
     "output_type": "execute_result"
    }
   ],
   "source": [
    "# Read in \"Chicago Weather Data\" file\n",
    "df = pd.read_csv(\"Chicago Weather Data.csv\")\n",
    "\n",
    "df['Date'] = pd.to_datetime(df['Date'])\n",
    "\n",
    "df = df.set_index('Date')\n",
    "df.head()"
   ]
  },
  {
   "cell_type": "code",
   "execution_count": 171,
   "metadata": {
    "scrolled": true
   },
   "outputs": [
    {
     "name": "stdout",
     "output_type": "stream",
     "text": [
      "[47.083333333333336, 48.333333333333336, 53.5, 51.166666666666664, 49.666666666666664, 50.75, 50.75, 48.75, 50.0, 51.416666666666664, 51.916666666666664, 51.333333333333336, 49.0, 49.083333333333336, 51.666666666666664, 50.833333333333336, 54.583333333333336, 49.333333333333336, 47.833333333333336, 50.5, 52.583333333333336, 52.833333333333336]\n"
     ]
    }
   ],
   "source": [
    "'''\n",
    "The list comprehension below is equivalent to this for loop:\n",
    "\n",
    "for temp in range(1996, 2018):\n",
    "    dat = df[str(temp)]['Mean Temperature']\n",
    "    dat = dat.values\n",
    "    means.append(np.mean(dat))\n",
    "print(means)\n",
    "'''\n",
    "\n",
    "# Find the average temperature of each year from 1996 to 2017\n",
    "means = [(np.mean(df[str(temp)]['Mean Temperature'].values)) for temp in range(1996,2018)]\n",
    "print(means)\n"
   ]
  },
  {
   "cell_type": "code",
   "execution_count": 172,
   "metadata": {},
   "outputs": [
    {
     "data": {
      "text/plain": [
       "Text(0,0.5,'Mean Temperature')"
      ]
     },
     "execution_count": 172,
     "metadata": {},
     "output_type": "execute_result"
    },
    {
     "data": {
      "image/png": "[encoded data removed]",
      "text/plain": [
       "<matplotlib.figure.Figure at 0x11377e240>"
      ]
     },
     "metadata": {},
     "output_type": "display_data"
    }
   ],
   "source": [
    "# Plot the mean temperature of every year from 1996 to 2017\n",
    "scatterMean = plt.scatter(range(1996,2018),means)\n",
    "plt.xlabel('Year')\n",
    "plt.ylabel('Mean Temperature')"
   ]
  },
  {
   "cell_type": "code",
   "execution_count": 173,
   "metadata": {},
   "outputs": [
    {
     "name": "stdout",
     "output_type": "stream",
     "text": [
      "[-11, -9, 0, -15, -2, 6, 10, -4, -8, 1, 17, 3, -5, -18, -1, -4, 5, -1, -16, -8, -4, 0]\n"
     ]
    }
   ],
   "source": [
    "# Compare January's minimum temperature of each year from 1996 to 2017\n",
    "minJan = [(df[str(temp)]['Min Temperature'][0]) for temp in range(1996,2018)]\n",
    "print(minJan)"
   ]
  },
  {
   "cell_type": "code",
   "execution_count": 174,
   "metadata": {},
   "outputs": [
    {
     "data": {
      "text/plain": [
       "Text(0,0.5,'Minimum Temperature in January')"
      ]
     },
     "execution_count": 174,
     "metadata": {},
     "output_type": "execute_result"
    },
    {
     "data": {
      "image/png": "[encoded data removed]",
      "text/plain": [
       "<matplotlib.figure.Figure at 0x11368e4e0>"
      ]
     },
     "metadata": {},
     "output_type": "display_data"
    }
   ],
   "source": [
    "# Plot the min temperature of January for every year from 1996 to 2017\n",
    "scatterMin = plt.scatter(range(1996,2018), minJan)\n",
    "plt.xlabel('Year')\n",
    "plt.ylabel('Minimum Temperature in January')"
   ]
  },
  {
   "cell_type": "code",
   "execution_count": 175,
   "metadata": {},
   "outputs": [
    {
     "name": "stdout",
     "output_type": "stream",
     "text": [
      "[98, 97, 95, 100, 91, 95, 96, 95, 91, 102, 99, 94, 91, 94, 94, 99, 103, 96, 91, 92, 93, 95]\n"
     ]
    }
   ],
   "source": [
    "# Compare each years hottest Summer temperature. Summer is defined as the start of June to end of August. \n",
    "maxSummer = [(max(df[str(temp)]['Max Temperature'][5:8])) for temp in range(1996,2018)]\n",
    "print(maxSummer)"
   ]
  },
  {
   "cell_type": "code",
   "execution_count": 176,
   "metadata": {},
   "outputs": [
    {
     "data": {
      "text/plain": [
       "Text(0,0.5,'Max Temperature of each Summer')"
      ]
     },
     "execution_count": 176,
     "metadata": {},
     "output_type": "execute_result"
    },
    {
     "data": {
      "image/png": "[encoded data removed]",
      "text/plain": [
       "<matplotlib.figure.Figure at 0x1139ae400>"
      ]
     },
     "metadata": {},
     "output_type": "display_data"
    }
   ],
   "source": [
    "scatterSummer = plt.scatter(range(1996,2018), maxSummer)\n",
    "plt.xlabel('Year')\n",
    "plt.ylabel('Max Temperature of each Summer')"
   ]
  }
 ],
 "metadata": {
  "kernelspec": {
   "display_name": "Python 3",
   "language": "python",
   "name": "python3"
  },
  "language_info": {
   "codemirror_mode": {
    "name": "ipython",
    "version": 3
   },
   "file_extension": ".py",
   "mimetype": "text/x-python",
   "name": "python",
   "nbconvert_exporter": "python",
   "pygments_lexer": "ipython3",
   "version": "3.6.3"
  }
 },
 "nbformat": 4,
 "nbformat_minor": 2
}
